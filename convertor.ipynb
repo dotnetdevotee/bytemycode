{
  "nbformat": 4,
  "nbformat_minor": 0,
  "metadata": {
    "colab": {
      "name": "Untitled0.ipynb",
      "provenance": [],
      "authorship_tag": "ABX9TyMn9UtFOYPm77aWTCeTeSrB",
      "include_colab_link": true
    },
    "kernelspec": {
      "name": "python3",
      "display_name": "Python 3"
    }
  },
  "cells": [
    {
      "cell_type": "markdown",
      "metadata": {
        "id": "view-in-github",
        "colab_type": "text"
      },
      "source": [
        "<a href=\"https://colab.research.google.com/github/dotnetdevotee/bytemycode/blob/main/convertor.ipynb\" target=\"_parent\"><img src=\"https://colab.research.google.com/assets/colab-badge.svg\" alt=\"Open In Colab\"/></a>"
      ]
    },
    {
      "cell_type": "code",
      "metadata": {
        "id": "gnhPzu5Isxex"
      },
      "source": [
        "pip install xgboost==1.2.1"
      ],
      "execution_count": null,
      "outputs": []
    },
    {
      "cell_type": "code",
      "metadata": {
        "id": "njW5D4Cdopc1"
      },
      "source": [
        "pip install onnxconverter_common"
      ],
      "execution_count": null,
      "outputs": []
    },
    {
      "cell_type": "code",
      "metadata": {
        "id": "spTWKFU6pCgH"
      },
      "source": [
        "pip install onnxmltools"
      ],
      "execution_count": null,
      "outputs": []
    },
    {
      "cell_type": "code",
      "metadata": {
        "id": "gn-JqIcUq2Jx"
      },
      "source": [
        "from onnxconverter_common.data_types import FloatTensorType\n",
        "from onnxmltools.convert import convert_xgboost\n",
        "import onnxmltools\n",
        "\n",
        "print (\"running\")\n",
        "import sklearn, pickle\n",
        "# If you changed the model file name - change it below, too\n",
        "model = pickle.load(open(\"xgboost-model\", \"rb\"))\n",
        "print(model)\n",
        "\n",
        "# Change the line below to whatever your input type is\n",
        "initial_type = [('float_input', FloatTensorType([None, 4]))]\n",
        "onx = convert_xgboost(model, initial_types=initial_type)\n",
        "\n",
        "# Save as protobuf\n",
        "onnxmltools.utils.save_model(onx, 'example.onnx')\n",
        "\n",
        "print(\"done\")"
      ],
      "execution_count": null,
      "outputs": []
    }
  ]
}