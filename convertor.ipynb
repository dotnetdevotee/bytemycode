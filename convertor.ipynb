{
  "nbformat": 4,
  "nbformat_minor": 0,
  "metadata": {
    "colab": {
      "name": "Untitled0.ipynb",
      "provenance": [],
      "authorship_tag": "ABX9TyP126OubpUd02KFtY1V5hx8",
      "include_colab_link": true
    },
    "kernelspec": {
      "name": "python3",
      "display_name": "Python 3"
    }
  },
  "cells": [
    {
      "cell_type": "markdown",
      "metadata": {
        "id": "view-in-github",
        "colab_type": "text"
      },
      "source": [
        "<a href=\"https://colab.research.google.com/github/dotnetdevotee/bytemycode/blob/main/convertor.ipynb\" target=\"_parent\"><img src=\"https://colab.research.google.com/assets/colab-badge.svg\" alt=\"Open In Colab\"/></a>"
      ]
    },
    {
      "cell_type": "code",
      "metadata": {
        "id": "gnhPzu5Isxex",
        "outputId": "2726b3ce-1790-4947-ae0d-a4cfedf3d7d4",
        "colab": {
          "base_uri": "https://localhost:8080/",
          "height": 293
        }
      },
      "source": [
        "pip install xgboost==1.2.1"
      ],
      "execution_count": 8,
      "outputs": [
        {
          "output_type": "stream",
          "text": [
            "Collecting xgboost==1.2.1\n",
            "\u001b[?25l  Downloading https://files.pythonhosted.org/packages/35/cc/fd3d5fc6b6616a03385a0f6492cc77a253940d1026406ecc07597095e381/xgboost-1.2.1-py3-none-manylinux2010_x86_64.whl (148.9MB)\n",
            "\u001b[K     |████████████████████████████████| 148.9MB 94kB/s \n",
            "\u001b[?25hRequirement already satisfied: numpy in /usr/local/lib/python3.6/dist-packages (from xgboost==1.2.1) (1.18.5)\n",
            "Requirement already satisfied: scipy in /usr/local/lib/python3.6/dist-packages (from xgboost==1.2.1) (1.4.1)\n",
            "Installing collected packages: xgboost\n",
            "  Found existing installation: xgboost 0.90\n",
            "    Uninstalling xgboost-0.90:\n",
            "      Successfully uninstalled xgboost-0.90\n",
            "Successfully installed xgboost-1.2.1\n"
          ],
          "name": "stdout"
        },
        {
          "output_type": "display_data",
          "data": {
            "application/vnd.colab-display-data+json": {
              "pip_warning": {
                "packages": [
                  "xgboost"
                ]
              }
            }
          },
          "metadata": {
            "tags": []
          }
        }
      ]
    },
    {
      "cell_type": "code",
      "metadata": {
        "colab": {
          "base_uri": "https://localhost:8080/"
        },
        "id": "njW5D4Cdopc1",
        "outputId": "5d351cd3-9ece-441a-aad7-77fcc8edcc6d"
      },
      "source": [
        "pip install onnxconverter_common"
      ],
      "execution_count": 2,
      "outputs": [
        {
          "output_type": "stream",
          "text": [
            "Collecting onnxconverter_common\n",
            "\u001b[?25l  Downloading https://files.pythonhosted.org/packages/fe/7a/7e30c643cd7d2ad87689188ef34ce93e657bd14da3605f87bcdbc19cd5b1/onnxconverter_common-1.7.0-py2.py3-none-any.whl (64kB)\n",
            "\r\u001b[K     |█████                           | 10kB 20.6MB/s eta 0:00:01\r\u001b[K     |██████████                      | 20kB 27.1MB/s eta 0:00:01\r\u001b[K     |███████████████▏                | 30kB 16.3MB/s eta 0:00:01\r\u001b[K     |████████████████████▏           | 40kB 11.0MB/s eta 0:00:01\r\u001b[K     |█████████████████████████▎      | 51kB 7.4MB/s eta 0:00:01\r\u001b[K     |██████████████████████████████▎ | 61kB 7.8MB/s eta 0:00:01\r\u001b[K     |████████████████████████████████| 71kB 5.1MB/s \n",
            "\u001b[?25hRequirement already satisfied: protobuf in /usr/local/lib/python3.6/dist-packages (from onnxconverter_common) (3.12.4)\n",
            "Collecting onnx\n",
            "\u001b[?25l  Downloading https://files.pythonhosted.org/packages/2a/82/e8d0fb64df623a3b716145192ed50604f444889778b37e0e9262753d5046/onnx-1.8.0-cp36-cp36m-manylinux2010_x86_64.whl (7.7MB)\n",
            "\u001b[K     |████████████████████████████████| 7.7MB 7.6MB/s \n",
            "\u001b[?25hRequirement already satisfied: numpy in /usr/local/lib/python3.6/dist-packages (from onnxconverter_common) (1.18.5)\n",
            "Requirement already satisfied: six>=1.9 in /usr/local/lib/python3.6/dist-packages (from protobuf->onnxconverter_common) (1.15.0)\n",
            "Requirement already satisfied: setuptools in /usr/local/lib/python3.6/dist-packages (from protobuf->onnxconverter_common) (50.3.2)\n",
            "Requirement already satisfied: typing-extensions>=3.6.2.1 in /usr/local/lib/python3.6/dist-packages (from onnx->onnxconverter_common) (3.7.4.3)\n",
            "Installing collected packages: onnx, onnxconverter-common\n",
            "Successfully installed onnx-1.8.0 onnxconverter-common-1.7.0\n"
          ],
          "name": "stdout"
        }
      ]
    },
    {
      "cell_type": "code",
      "metadata": {
        "colab": {
          "base_uri": "https://localhost:8080/"
        },
        "id": "spTWKFU6pCgH",
        "outputId": "6c55fb38-45d9-446f-c262-a9be55e35cad"
      },
      "source": [
        "pip install onnxmltools"
      ],
      "execution_count": 3,
      "outputs": [
        {
          "output_type": "stream",
          "text": [
            "Collecting onnxmltools\n",
            "\u001b[?25l  Downloading https://files.pythonhosted.org/packages/13/78/cb1c3573e76059a7319fc9e8e6ec0b0bec3b0784792810ef7e29e2f2bb39/onnxmltools-1.7.0-py2.py3-none-any.whl (252kB)\n",
            "\r\u001b[K     |█▎                              | 10kB 20.8MB/s eta 0:00:01\r\u001b[K     |██▋                             | 20kB 23.8MB/s eta 0:00:01\r\u001b[K     |████                            | 30kB 12.3MB/s eta 0:00:01\r\u001b[K     |█████▏                          | 40kB 9.6MB/s eta 0:00:01\r\u001b[K     |██████▌                         | 51kB 7.9MB/s eta 0:00:01\r\u001b[K     |███████▉                        | 61kB 8.2MB/s eta 0:00:01\r\u001b[K     |█████████                       | 71kB 8.5MB/s eta 0:00:01\r\u001b[K     |██████████▍                     | 81kB 8.8MB/s eta 0:00:01\r\u001b[K     |███████████▊                    | 92kB 8.1MB/s eta 0:00:01\r\u001b[K     |█████████████                   | 102kB 8.6MB/s eta 0:00:01\r\u001b[K     |██████████████▎                 | 112kB 8.6MB/s eta 0:00:01\r\u001b[K     |███████████████▋                | 122kB 8.6MB/s eta 0:00:01\r\u001b[K     |████████████████▉               | 133kB 8.6MB/s eta 0:00:01\r\u001b[K     |██████████████████▏             | 143kB 8.6MB/s eta 0:00:01\r\u001b[K     |███████████████████▌            | 153kB 8.6MB/s eta 0:00:01\r\u001b[K     |████████████████████▊           | 163kB 8.6MB/s eta 0:00:01\r\u001b[K     |██████████████████████          | 174kB 8.6MB/s eta 0:00:01\r\u001b[K     |███████████████████████▍        | 184kB 8.6MB/s eta 0:00:01\r\u001b[K     |████████████████████████▋       | 194kB 8.6MB/s eta 0:00:01\r\u001b[K     |██████████████████████████      | 204kB 8.6MB/s eta 0:00:01\r\u001b[K     |███████████████████████████▎    | 215kB 8.6MB/s eta 0:00:01\r\u001b[K     |████████████████████████████▋   | 225kB 8.6MB/s eta 0:00:01\r\u001b[K     |█████████████████████████████▉  | 235kB 8.6MB/s eta 0:00:01\r\u001b[K     |███████████████████████████████▏| 245kB 8.6MB/s eta 0:00:01\r\u001b[K     |████████████████████████████████| 256kB 8.6MB/s \n",
            "\u001b[?25hRequirement already satisfied: protobuf in /usr/local/lib/python3.6/dist-packages (from onnxmltools) (3.12.4)\n",
            "Requirement already satisfied: numpy in /usr/local/lib/python3.6/dist-packages (from onnxmltools) (1.18.5)\n",
            "Collecting keras2onnx\n",
            "\u001b[?25l  Downloading https://files.pythonhosted.org/packages/a6/2f/c7aef8f8215c62d55ea05f5b36737c1726e4fea6c73970909523ae497fd9/keras2onnx-1.7.0-py3-none-any.whl (96kB)\n",
            "\u001b[K     |████████████████████████████████| 102kB 7.2MB/s \n",
            "\u001b[?25hRequirement already satisfied: onnx in /usr/local/lib/python3.6/dist-packages (from onnxmltools) (1.8.0)\n",
            "Requirement already satisfied: onnxconverter-common<1.8.0,>=1.7.0 in /usr/local/lib/python3.6/dist-packages (from onnxmltools) (1.7.0)\n",
            "Collecting skl2onnx\n",
            "\u001b[?25l  Downloading https://files.pythonhosted.org/packages/8a/41/47cb3c420d3a1d0a1ad38ef636ac2d4929c938c2f209582bcf3b33440b1a/skl2onnx-1.7.0-py2.py3-none-any.whl (191kB)\n",
            "\u001b[K     |████████████████████████████████| 194kB 11.7MB/s \n",
            "\u001b[?25hRequirement already satisfied: six>=1.9 in /usr/local/lib/python3.6/dist-packages (from protobuf->onnxmltools) (1.15.0)\n",
            "Requirement already satisfied: setuptools in /usr/local/lib/python3.6/dist-packages (from protobuf->onnxmltools) (50.3.2)\n",
            "Requirement already satisfied: requests in /usr/local/lib/python3.6/dist-packages (from keras2onnx->onnxmltools) (2.23.0)\n",
            "Collecting fire\n",
            "\u001b[?25l  Downloading https://files.pythonhosted.org/packages/34/a7/0e22e70778aca01a52b9c899d9c145c6396d7b613719cd63db97ffa13f2f/fire-0.3.1.tar.gz (81kB)\n",
            "\u001b[K     |████████████████████████████████| 81kB 8.3MB/s \n",
            "\u001b[?25hRequirement already satisfied: typing-extensions>=3.6.2.1 in /usr/local/lib/python3.6/dist-packages (from onnx->onnxmltools) (3.7.4.3)\n",
            "Requirement already satisfied: scipy>=1.0 in /usr/local/lib/python3.6/dist-packages (from skl2onnx->onnxmltools) (1.4.1)\n",
            "Requirement already satisfied: scikit-learn>=0.19 in /usr/local/lib/python3.6/dist-packages (from skl2onnx->onnxmltools) (0.22.2.post1)\n",
            "Requirement already satisfied: idna<3,>=2.5 in /usr/local/lib/python3.6/dist-packages (from requests->keras2onnx->onnxmltools) (2.10)\n",
            "Requirement already satisfied: chardet<4,>=3.0.2 in /usr/local/lib/python3.6/dist-packages (from requests->keras2onnx->onnxmltools) (3.0.4)\n",
            "Requirement already satisfied: urllib3!=1.25.0,!=1.25.1,<1.26,>=1.21.1 in /usr/local/lib/python3.6/dist-packages (from requests->keras2onnx->onnxmltools) (1.24.3)\n",
            "Requirement already satisfied: certifi>=2017.4.17 in /usr/local/lib/python3.6/dist-packages (from requests->keras2onnx->onnxmltools) (2020.11.8)\n",
            "Requirement already satisfied: termcolor in /usr/local/lib/python3.6/dist-packages (from fire->keras2onnx->onnxmltools) (1.1.0)\n",
            "Requirement already satisfied: joblib>=0.11 in /usr/local/lib/python3.6/dist-packages (from scikit-learn>=0.19->skl2onnx->onnxmltools) (0.17.0)\n",
            "Building wheels for collected packages: fire\n",
            "  Building wheel for fire (setup.py) ... \u001b[?25l\u001b[?25hdone\n",
            "  Created wheel for fire: filename=fire-0.3.1-py2.py3-none-any.whl size=111005 sha256=3a2f33de417f2c83d0d4e1d5efd80a096ae3a13889879094f18958cc8f666c84\n",
            "  Stored in directory: /root/.cache/pip/wheels/c1/61/df/768b03527bf006b546dce284eb4249b185669e65afc5fbb2ac\n",
            "Successfully built fire\n",
            "Installing collected packages: fire, keras2onnx, skl2onnx, onnxmltools\n",
            "Successfully installed fire-0.3.1 keras2onnx-1.7.0 onnxmltools-1.7.0 skl2onnx-1.7.0\n"
          ],
          "name": "stdout"
        }
      ]
    },
    {
      "cell_type": "code",
      "metadata": {
        "colab": {
          "base_uri": "https://localhost:8080/"
        },
        "id": "eTJXg2DYpHfR",
        "outputId": "d80c8c6f-f952-4a3f-fd6b-0246c68d2c3e"
      },
      "source": [
        "pip install mxnet"
      ],
      "execution_count": 4,
      "outputs": [
        {
          "output_type": "stream",
          "text": [
            "Collecting mxnet\n",
            "\u001b[?25l  Downloading https://files.pythonhosted.org/packages/29/bb/54cbabe428351c06d10903c658878d29ee7026efbe45133fd133598d6eb6/mxnet-1.7.0.post1-py2.py3-none-manylinux2014_x86_64.whl (55.0MB)\n",
            "\u001b[K     |████████████████████████████████| 55.0MB 81kB/s \n",
            "\u001b[?25hRequirement already satisfied: requests<3,>=2.20.0 in /usr/local/lib/python3.6/dist-packages (from mxnet) (2.23.0)\n",
            "Requirement already satisfied: numpy<2.0.0,>1.16.0 in /usr/local/lib/python3.6/dist-packages (from mxnet) (1.18.5)\n",
            "Collecting graphviz<0.9.0,>=0.8.1\n",
            "  Downloading https://files.pythonhosted.org/packages/53/39/4ab213673844e0c004bed8a0781a0721a3f6bb23eb8854ee75c236428892/graphviz-0.8.4-py2.py3-none-any.whl\n",
            "Requirement already satisfied: certifi>=2017.4.17 in /usr/local/lib/python3.6/dist-packages (from requests<3,>=2.20.0->mxnet) (2020.11.8)\n",
            "Requirement already satisfied: urllib3!=1.25.0,!=1.25.1,<1.26,>=1.21.1 in /usr/local/lib/python3.6/dist-packages (from requests<3,>=2.20.0->mxnet) (1.24.3)\n",
            "Requirement already satisfied: idna<3,>=2.5 in /usr/local/lib/python3.6/dist-packages (from requests<3,>=2.20.0->mxnet) (2.10)\n",
            "Requirement already satisfied: chardet<4,>=3.0.2 in /usr/local/lib/python3.6/dist-packages (from requests<3,>=2.20.0->mxnet) (3.0.4)\n",
            "Installing collected packages: graphviz, mxnet\n",
            "  Found existing installation: graphviz 0.10.1\n",
            "    Uninstalling graphviz-0.10.1:\n",
            "      Successfully uninstalled graphviz-0.10.1\n",
            "Successfully installed graphviz-0.8.4 mxnet-1.7.0.post1\n"
          ],
          "name": "stdout"
        }
      ]
    },
    {
      "cell_type": "code",
      "metadata": {
        "id": "gn-JqIcUq2Jx",
        "outputId": "7a0825df-775d-48d8-b0f0-5df6f08a3c1e",
        "colab": {
          "base_uri": "https://localhost:8080/"
        }
      },
      "source": [
        "from onnxconverter_common.data_types import FloatTensorType\n",
        "from onnxmltools.convert import convert_xgboost\n",
        "import onnxmltools\n",
        "import mxnet.contrib.onnx as onnx_mxnet\n",
        "\n",
        "print (\"running\")\n",
        "import sklearn, pickle\n",
        "# If you changed the model file name - change it below, too\n",
        "model = pickle.load(open(\"xgboost-model\", \"rb\"))\n",
        "print(model)\n",
        "\n",
        "# Change the line below to whatever your input type is\n",
        "initial_type = [('float_input', FloatTensorType([None, 4]))]\n",
        "onx = convert_xgboost(model, initial_types=initial_type)\n",
        "\n",
        "# Save as protobuf\n",
        "onnxmltools.utils.save_model(onx, 'example.onnx')\n",
        "\n",
        "print(\"done\")"
      ],
      "execution_count": 1,
      "outputs": [
        {
          "output_type": "stream",
          "text": [
            "running\n",
            "<xgboost.core.Booster object at 0x7f8128fbf780>\n",
            "done\n"
          ],
          "name": "stdout"
        }
      ]
    }
  ]
}